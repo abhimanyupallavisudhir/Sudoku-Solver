{
 "cells": [
  {
   "cell_type": "markdown",
   "metadata": {},
   "source": [
    "# Sudoku solver"
   ]
  },
  {
   "cell_type": "code",
   "execution_count": 149,
   "metadata": {},
   "outputs": [],
   "source": [
    "from math import ceil # for finding square, square index\n",
    "from itertools import combinations # for block combinations\n",
    "from functools import reduce # for ORing a list of lists\n",
    "\n",
    "# If you want to animate the solving -- but this is hard on Windows\n",
    "# from time import sleep # to show working step-by-step\n",
    "# from pandas import DataFrame # pretty-print 2d lists as data frames"
   ]
  },
  {
   "cell_type": "code",
   "execution_count": 152,
   "metadata": {},
   "outputs": [],
   "source": [
    "# input array: 0s represent empty squares to be filled\n",
    "# puzzle = [\n",
    "#     [2, 0, 0,   0, 1, 0,   0, 0, 5],\n",
    "#     [0, 0, 1,   6, 8, 0,   0, 0, 0],\n",
    "#     [0, 0, 5,   0, 3, 4,   0, 0, 6],\n",
    "    \n",
    "#     [0, 4, 0,   8, 0, 2,   5, 0, 0],\n",
    "#     [6, 8, 0,   0, 0, 3,   0, 2, 0],\n",
    "#     [3, 0, 2,   7, 0, 0,   0, 0, 0],\n",
    "    \n",
    "#     [9, 0, 0,   5, 2, 0,   6, 0, 0],\n",
    "#     [0, 1, 0,   0, 7, 6,   9, 0, 0],\n",
    "#     [5, 0, 0,   0, 9, 0,   0, 7, 8]]\n",
    "\n",
    "# Try also (not solvable with pure simplification algorithm):\n",
    "puzzle = [\n",
    "    [8, 0, 0,   0, 0, 0,   0, 0, 0],\n",
    "    [0, 0, 3,   6, 0, 0,   0, 0, 0],\n",
    "    [0, 7, 0,   0, 9, 4,   2, 0, 6],\n",
    "    \n",
    "    [0, 5, 0,   0, 0, 7,   5, 0, 0],\n",
    "    [0, 0, 0,   0, 4, 5,   7, 0, 0],\n",
    "    [0, 0, 0,   1, 0, 0,   0, 3, 0],\n",
    "    \n",
    "    [0, 0, 1,   0, 0, 0,   0, 6, 8],\n",
    "    [0, 0, 8,   5, 7, 6,   0, 1, 0],\n",
    "    [0, 9, 0,   0, 0, 0,   4, 0, 0]]"
   ]
  },
  {
   "cell_type": "code",
   "execution_count": 153,
   "metadata": {},
   "outputs": [],
   "source": [
    "# boring cleanup and administrative functions\n",
    "\n",
    "# the \"notes\" for an entry are the set of possible values and label for its square, row, column\n",
    "# e.g. notes for a \"2\" in block (5, 8) are: \n",
    "# [((6, 5), (5, 8), (8, 5)), False, True, False, False, False, False, False, False, False]\n",
    "\n",
    "# generate label from co-ordinates\n",
    "def to_label(i, j):\n",
    "    square = 3 * (ceil(i / 3) - 1) + ceil(j / 3)\n",
    "    square_pos = 3 * ((i - 1) % 3) + (j - 1) % 3  + 1 \n",
    "    return ((square, square_pos), (i, j), (j, i))\n",
    "\n",
    "# find row, column co-ordinates from square, square index co-ordinates\n",
    "# interestingly, the formula is the same\n",
    "def to_coord(p, q):\n",
    "    row = 3 * (ceil(p / 3) - 1) + ceil(q / 3)\n",
    "    col = 3 * ((p - 1) % 3) + (q - 1) % 3 + 1\n",
    "    return (row, col)\n",
    "\n",
    "# convert entry to notes\n",
    "def entry_to_notes(entry, i, j):\n",
    "    if entry == 0: return [to_label(i, j)] + [True for x in range(1, 10)]\n",
    "    else: return [to_label(i, j)] + [True if x == entry else False for x in range(1, 10)]\n",
    "\n",
    "# if \"notes\" is a singleton, pluck its element. Else 0.\n",
    "def notes_to_entry(notes):\n",
    "    if sum(notes[1:]) == 1: return notes.index(True)\n",
    "    else: return 0\n",
    "\n",
    "# transform readable puzzle into workable puzzle_notes\n",
    "def to_puzzle_notes(puzzle_in): \n",
    "    return [[entry_to_notes(entry, i, j) for (j, entry) in enumerate(row, start = 1)] \n",
    "            for (i, row) in enumerate(puzzle_in, start = 1)]\n",
    "\n",
    "# transform workable puzzle_notes into readable puzzle\n",
    "def to_puzzle(puzzle_notes_in): return [[notes_to_entry(notes) for notes in row] for row in puzzle_notes_in]\n",
    "\n",
    "# a simple function I'll need: ORing across arrays\n",
    "def reduce_OR(list_of_lists):\n",
    "    return reduce(lambda L1, L2 : [L1[x] or L2[x] for x in range(len(L1))], list_of_lists)[1:]"
   ]
  },
  {
   "cell_type": "code",
   "execution_count": 159,
   "metadata": {},
   "outputs": [
    {
     "data": {
      "text/plain": [
       "[[8, 0, 4, 7, 0, 0, 0, 0, 0],\n",
       " [9, 0, 3, 6, 0, 0, 0, 0, 0],\n",
       " [1, 7, 5, 0, 9, 4, 2, 0, 6],\n",
       " [0, 0, 0, 0, 0, 7, 0, 0, 0],\n",
       " [0, 8, 9, 0, 4, 5, 7, 2, 1],\n",
       " [0, 0, 0, 1, 0, 0, 0, 3, 0],\n",
       " [0, 0, 1, 4, 0, 9, 0, 6, 8],\n",
       " [0, 0, 8, 5, 7, 6, 9, 1, 0],\n",
       " [0, 9, 7, 0, 0, 0, 4, 0, 0]]"
      ]
     },
     "execution_count": 159,
     "metadata": {},
     "output_type": "execute_result"
    }
   ],
   "source": [
    "# SUDOKU SIMPLIFICATION ALGORITHM (typically solves puzzle completely):\n",
    "\n",
    "## If the union of K blocks' notes in a row, column or square has cardinality K, we may \n",
    "## eliminate these K numbers from all other blocks in that row, column or square.\n",
    "\n",
    "## We will check for the presence of such \"K-plets\" for each K and label these \"eliminatable\n",
    "## numbers\" with the squares that they were found in (so we don't eliminate them from those \n",
    "## squares) and put them in a list.\n",
    "\n",
    "# set_type: 0 (square), 1 (row), 2 (col); set_num: which row/col/square?\n",
    "def K_plets(puzzle_notes_in, set_type, set_num, K):\n",
    "    # Look for all notes whose label[set_type][0] == set_num\n",
    "    set_contents = [note for row in puzzle_notes_in for note in row if note[0][set_type][0] == set_num]\n",
    "    # consider their K-combinations\n",
    "    set_combines = combinations(set_contents, K)\n",
    "    # If the OR of a combination has K Trues, it's a K-plet\n",
    "    plets = [combine for combine in set_combines if sum(reduce_OR(combine)) == K]\n",
    "    # for each plet, create the object [[list of labels], [list of taken values]]\n",
    "    plets_out = [([notes[0] for notes in combine], # list of labels\n",
    "                  [val for val, bit in enumerate(reduce_OR(combine), start = 1) if bit == True]) # indices of 'True'\n",
    "                 for combine in plets]\n",
    "    return plets_out\n",
    "\n",
    "# eliminate possibilities banned by K_plets; note has earlier discussed form\n",
    "# [((6, 5), (5, 8), (8, 5)), False, True, False, False, False, False, False, False, False]\n",
    "def update_set(puzzle_notes_in, set_type, set_num):\n",
    "    for K in range(1, 9): # for loop faster here to avoid duplication of values in higher Ks, e.g. {2, 3}, {(2, 3)}\n",
    "        for ban in K_plets(puzzle_notes_in, set_type, set_num, K): # for each K-plet\n",
    "            puzzle_notes_in = [[[False if val in ban[1] else bit for val, bit in enumerate(notes)] # banned options to False\n",
    "                             if notes[0][set_type][0] == set_num # for all blocks in the set\n",
    "                             and notes[0] not in ban[0] # except those in the K-plet (and are thus the cause of the ban)\n",
    "                             else notes for notes in row] for row in puzzle_notes_in] # leave everything else unchanged\n",
    "    return puzzle_notes_in\n",
    "\n",
    "# Sudoku simplification algorithm -- typically enough\n",
    "def puzzle_simplify(puzzle_in):    \n",
    "    puzzle_notes_in = to_puzzle_notes(puzzle_in) # initialise notes\n",
    "    puzzle_notes_prev_in = [[10] * 9] * 9 # initialise \"previous\", for steady-state check\n",
    "    while puzzle_notes_in != puzzle_notes_prev_in: # terminate upon reaching steady-state\n",
    "        puzzle_notes_prev_in = puzzle_notes_in # update puzzle_prev\n",
    "        for set_type in range(3): # do squares first, then rows, then columns\n",
    "            for set_num in range(1, 10): # for each square/row/col\n",
    "                puzzle_notes_in = update_set(puzzle_notes_in, set_type, set_num) # do some work\n",
    "    return puzzle_notes_in\n",
    "\n",
    "to_puzzle(puzzle_simplify(puzzle))"
   ]
  },
  {
   "cell_type": "code",
   "execution_count": 156,
   "metadata": {},
   "outputs": [],
   "source": [
    "# Case-wise approach in case simplification did not fully solve it \n",
    "\n",
    "# breadth-first search"
   ]
  }
 ],
 "metadata": {
  "kernelspec": {
   "display_name": "Python 3",
   "language": "python",
   "name": "python3"
  },
  "language_info": {
   "codemirror_mode": {
    "name": "ipython",
    "version": 3
   },
   "file_extension": ".py",
   "mimetype": "text/x-python",
   "name": "python",
   "nbconvert_exporter": "python",
   "pygments_lexer": "ipython3",
   "version": "3.7.3"
  }
 },
 "nbformat": 4,
 "nbformat_minor": 2
}
